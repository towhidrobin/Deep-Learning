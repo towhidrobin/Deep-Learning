{
 "cells": [
  {
   "cell_type": "code",
   "execution_count": 1,
   "metadata": {},
   "outputs": [
    {
     "name": "stderr",
     "output_type": "stream",
     "text": [
      "Using Theano backend.\n"
     ]
    }
   ],
   "source": [
    "import keras\n",
    "from keras.layers import Activation, Dense, Dropout, Conv2D, Flatten, MaxPooling2D\n",
    "from keras.models import Sequential, load_model\n",
    "import librosa as lrb\n",
    "import librosa.display\n",
    "import numpy as np\n",
    "import pandas as pd\n",
    "import random\n",
    "import glob\n",
    "import os\n",
    "import h5py\n",
    "import matplotlib.pyplot as plt\n",
    "from glob import glob\n",
    "import warnings\n",
    "warnings.filterwarnings('ignore')"
   ]
  },
  {
   "cell_type": "code",
   "execution_count": 2,
   "metadata": {},
   "outputs": [
    {
     "data": {
      "text/plain": [
       "873"
      ]
     },
     "execution_count": 2,
     "metadata": {},
     "output_type": "execute_result"
    }
   ],
   "source": [
    "data_dir = 'C:\\\\Users\\\\ASUS\\\\Desktop\\\\UrbanSound8K\\\\UrbanSound8K\\\\audio\\\\fold1'\n",
    "audio_files = glob(data_dir + '/*.wav')\n",
    "len(audio_files)"
   ]
  },
  {
   "cell_type": "code",
   "execution_count": 3,
   "metadata": {},
   "outputs": [
    {
     "data": {
      "text/plain": [
       "888"
      ]
     },
     "execution_count": 3,
     "metadata": {},
     "output_type": "execute_result"
    }
   ],
   "source": [
    "data_dir = 'C:\\\\Users\\\\ASUS\\\\Desktop\\\\UrbanSound8K\\\\UrbanSound8K\\\\audio\\\\fold2'\n",
    "audio_files = glob(data_dir + '/*.wav')\n",
    "len(audio_files)"
   ]
  },
  {
   "cell_type": "code",
   "execution_count": 4,
   "metadata": {},
   "outputs": [
    {
     "data": {
      "text/plain": [
       "925"
      ]
     },
     "execution_count": 4,
     "metadata": {},
     "output_type": "execute_result"
    }
   ],
   "source": [
    "data_dir = 'C:\\\\Users\\\\ASUS\\\\Desktop\\\\UrbanSound8K\\\\UrbanSound8K\\\\audio\\\\fold3'\n",
    "audio_files = glob(data_dir + '/*.wav')\n",
    "len(audio_files)"
   ]
  },
  {
   "cell_type": "code",
   "execution_count": 5,
   "metadata": {},
   "outputs": [
    {
     "data": {
      "text/plain": [
       "990"
      ]
     },
     "execution_count": 5,
     "metadata": {},
     "output_type": "execute_result"
    }
   ],
   "source": [
    "data_dir = 'C:\\\\Users\\\\ASUS\\\\Desktop\\\\UrbanSound8K\\\\UrbanSound8K\\\\audio\\\\fold4'\n",
    "audio_files = glob(data_dir + '/*.wav')\n",
    "len(audio_files)"
   ]
  },
  {
   "cell_type": "code",
   "execution_count": 6,
   "metadata": {},
   "outputs": [
    {
     "data": {
      "text/plain": [
       "936"
      ]
     },
     "execution_count": 6,
     "metadata": {},
     "output_type": "execute_result"
    }
   ],
   "source": [
    "data_dir = 'C:\\\\Users\\\\ASUS\\\\Desktop\\\\UrbanSound8K\\\\UrbanSound8K\\\\audio\\\\fold5'\n",
    "audio_files = glob(data_dir + '/*.wav')\n",
    "len(audio_files)"
   ]
  },
  {
   "cell_type": "code",
   "execution_count": 7,
   "metadata": {},
   "outputs": [
    {
     "data": {
      "text/plain": [
       "823"
      ]
     },
     "execution_count": 7,
     "metadata": {},
     "output_type": "execute_result"
    }
   ],
   "source": [
    "data_dir = 'C:\\\\Users\\\\ASUS\\\\Desktop\\\\UrbanSound8K\\\\UrbanSound8K\\\\audio\\\\fold6'\n",
    "audio_files = glob(data_dir + '/*.wav')\n",
    "len(audio_files)"
   ]
  },
  {
   "cell_type": "code",
   "execution_count": 8,
   "metadata": {},
   "outputs": [
    {
     "data": {
      "text/plain": [
       "838"
      ]
     },
     "execution_count": 8,
     "metadata": {},
     "output_type": "execute_result"
    }
   ],
   "source": [
    "data_dir = 'C:\\\\Users\\\\ASUS\\\\Desktop\\\\UrbanSound8K\\\\UrbanSound8K\\\\audio\\\\fold7'\n",
    "audio_files = glob(data_dir + '/*.wav')\n",
    "len(audio_files)"
   ]
  },
  {
   "cell_type": "code",
   "execution_count": 9,
   "metadata": {},
   "outputs": [
    {
     "data": {
      "text/plain": [
       "806"
      ]
     },
     "execution_count": 9,
     "metadata": {},
     "output_type": "execute_result"
    }
   ],
   "source": [
    "data_dir = 'C:\\\\Users\\\\ASUS\\\\Desktop\\\\UrbanSound8K\\\\UrbanSound8K\\\\audio\\\\fold8'\n",
    "audio_files = glob(data_dir + '/*.wav')\n",
    "len(audio_files)"
   ]
  },
  {
   "cell_type": "code",
   "execution_count": 10,
   "metadata": {},
   "outputs": [
    {
     "data": {
      "text/plain": [
       "816"
      ]
     },
     "execution_count": 10,
     "metadata": {},
     "output_type": "execute_result"
    }
   ],
   "source": [
    "data_dir = 'C:\\\\Users\\\\ASUS\\\\Desktop\\\\UrbanSound8K\\\\UrbanSound8K\\\\audio\\\\fold9'\n",
    "audio_files = glob(data_dir + '/*.wav')\n",
    "len(audio_files)"
   ]
  },
  {
   "cell_type": "code",
   "execution_count": 11,
   "metadata": {},
   "outputs": [
    {
     "data": {
      "text/plain": [
       "837"
      ]
     },
     "execution_count": 11,
     "metadata": {},
     "output_type": "execute_result"
    }
   ],
   "source": [
    "data_dir = 'C:\\\\Users\\\\ASUS\\\\Desktop\\\\UrbanSound8K\\\\UrbanSound8K\\\\audio\\\\fold10'\n",
    "audio_files = glob(data_dir + '/*.wav')\n",
    "len(audio_files)"
   ]
  },
  {
   "cell_type": "code",
   "execution_count": 12,
   "metadata": {},
   "outputs": [],
   "source": [
    "audio, sfreq = lrb.load(audio_files[7])\n",
    "time = np.arange(0, len(audio)) / sfreq"
   ]
  },
  {
   "cell_type": "code",
   "execution_count": 13,
   "metadata": {},
   "outputs": [
    {
     "data": {
      "image/png": "[encoded data removed]",
      "text/plain": [
       "<Figure size 432x288 with 1 Axes>"
      ]
     },
     "metadata": {
      "needs_background": "light"
     },
     "output_type": "display_data"
    }
   ],
   "source": [
    "fig, ax = plt.subplots()\n",
    "ax.plot(time,audio)\n",
    "ax.set(xlabel='Time(s)',ylabel='Sound Amplitude')\n",
    "plt.show()"
   ]
  },
  {
   "cell_type": "code",
   "execution_count": 14,
   "metadata": {},
   "outputs": [],
   "source": [
    "audio, sfreq = lrb.load(audio_files[500])\n",
    "time = np.arange(0, len(audio)) / sfreq"
   ]
  },
  {
   "cell_type": "code",
   "execution_count": 15,
   "metadata": {},
   "outputs": [
    {
     "data": {
      "image/png": "[encoded data removed]",
      "text/plain": [
       "<Figure size 432x288 with 1 Axes>"
      ]
     },
     "metadata": {
      "needs_background": "light"
     },
     "output_type": "display_data"
    }
   ],
   "source": [
    "fig, ax = plt.subplots()\n",
    "ax.plot(time,audio)\n",
    "ax.set(xlabel='Time(s)',ylabel='Sound Amplitude')\n",
    "plt.show()"
   ]
  },
  {
   "cell_type": "code",
   "execution_count": 16,
   "metadata": {},
   "outputs": [
    {
     "data": {
      "text/html": [
       "<div>\n",
       "<style scoped>\n",
       "    .dataframe tbody tr th:only-of-type {\n",
       "        vertical-align: middle;\n",
       "    }\n",
       "\n",
       "    .dataframe tbody tr th {\n",
       "        vertical-align: top;\n",
       "    }\n",
       "\n",
       "    .dataframe thead th {\n",
       "        text-align: right;\n",
       "    }\n",
       "</style>\n",
       "<table border=\"1\" class=\"dataframe\">\n",
       "  <thead>\n",
       "    <tr style=\"text-align: right;\">\n",
       "      <th></th>\n",
       "      <th>slice_file_name</th>\n",
       "      <th>fsID</th>\n",
       "      <th>start</th>\n",
       "      <th>end</th>\n",
       "      <th>salience</th>\n",
       "      <th>fold</th>\n",
       "      <th>classID</th>\n",
       "      <th>class</th>\n",
       "    </tr>\n",
       "  </thead>\n",
       "  <tbody>\n",
       "    <tr>\n",
       "      <th>0</th>\n",
       "      <td>100032-3-0-0.wav</td>\n",
       "      <td>100032</td>\n",
       "      <td>0.000000</td>\n",
       "      <td>0.317551</td>\n",
       "      <td>1</td>\n",
       "      <td>5</td>\n",
       "      <td>3</td>\n",
       "      <td>dog_bark</td>\n",
       "    </tr>\n",
       "    <tr>\n",
       "      <th>1</th>\n",
       "      <td>100263-2-0-117.wav</td>\n",
       "      <td>100263</td>\n",
       "      <td>58.500000</td>\n",
       "      <td>62.500000</td>\n",
       "      <td>1</td>\n",
       "      <td>5</td>\n",
       "      <td>2</td>\n",
       "      <td>children_playing</td>\n",
       "    </tr>\n",
       "    <tr>\n",
       "      <th>2</th>\n",
       "      <td>100263-2-0-121.wav</td>\n",
       "      <td>100263</td>\n",
       "      <td>60.500000</td>\n",
       "      <td>64.500000</td>\n",
       "      <td>1</td>\n",
       "      <td>5</td>\n",
       "      <td>2</td>\n",
       "      <td>children_playing</td>\n",
       "    </tr>\n",
       "    <tr>\n",
       "      <th>3</th>\n",
       "      <td>100263-2-0-126.wav</td>\n",
       "      <td>100263</td>\n",
       "      <td>63.000000</td>\n",
       "      <td>67.000000</td>\n",
       "      <td>1</td>\n",
       "      <td>5</td>\n",
       "      <td>2</td>\n",
       "      <td>children_playing</td>\n",
       "    </tr>\n",
       "    <tr>\n",
       "      <th>4</th>\n",
       "      <td>100263-2-0-137.wav</td>\n",
       "      <td>100263</td>\n",
       "      <td>68.500000</td>\n",
       "      <td>72.500000</td>\n",
       "      <td>1</td>\n",
       "      <td>5</td>\n",
       "      <td>2</td>\n",
       "      <td>children_playing</td>\n",
       "    </tr>\n",
       "    <tr>\n",
       "      <th>5</th>\n",
       "      <td>100263-2-0-143.wav</td>\n",
       "      <td>100263</td>\n",
       "      <td>71.500000</td>\n",
       "      <td>75.500000</td>\n",
       "      <td>1</td>\n",
       "      <td>5</td>\n",
       "      <td>2</td>\n",
       "      <td>children_playing</td>\n",
       "    </tr>\n",
       "    <tr>\n",
       "      <th>6</th>\n",
       "      <td>100263-2-0-161.wav</td>\n",
       "      <td>100263</td>\n",
       "      <td>80.500000</td>\n",
       "      <td>84.500000</td>\n",
       "      <td>1</td>\n",
       "      <td>5</td>\n",
       "      <td>2</td>\n",
       "      <td>children_playing</td>\n",
       "    </tr>\n",
       "    <tr>\n",
       "      <th>7</th>\n",
       "      <td>100263-2-0-3.wav</td>\n",
       "      <td>100263</td>\n",
       "      <td>1.500000</td>\n",
       "      <td>5.500000</td>\n",
       "      <td>1</td>\n",
       "      <td>5</td>\n",
       "      <td>2</td>\n",
       "      <td>children_playing</td>\n",
       "    </tr>\n",
       "    <tr>\n",
       "      <th>8</th>\n",
       "      <td>100263-2-0-36.wav</td>\n",
       "      <td>100263</td>\n",
       "      <td>18.000000</td>\n",
       "      <td>22.000000</td>\n",
       "      <td>1</td>\n",
       "      <td>5</td>\n",
       "      <td>2</td>\n",
       "      <td>children_playing</td>\n",
       "    </tr>\n",
       "    <tr>\n",
       "      <th>9</th>\n",
       "      <td>100648-1-0-0.wav</td>\n",
       "      <td>100648</td>\n",
       "      <td>4.823402</td>\n",
       "      <td>5.471927</td>\n",
       "      <td>2</td>\n",
       "      <td>10</td>\n",
       "      <td>1</td>\n",
       "      <td>car_horn</td>\n",
       "    </tr>\n",
       "  </tbody>\n",
       "</table>\n",
       "</div>"
      ],
      "text/plain": [
       "      slice_file_name    fsID      start        end  salience  fold  classID  \\\n",
       "0    100032-3-0-0.wav  100032   0.000000   0.317551         1     5        3   \n",
       "1  100263-2-0-117.wav  100263  58.500000  62.500000         1     5        2   \n",
       "2  100263-2-0-121.wav  100263  60.500000  64.500000         1     5        2   \n",
       "3  100263-2-0-126.wav  100263  63.000000  67.000000         1     5        2   \n",
       "4  100263-2-0-137.wav  100263  68.500000  72.500000         1     5        2   \n",
       "5  100263-2-0-143.wav  100263  71.500000  75.500000         1     5        2   \n",
       "6  100263-2-0-161.wav  100263  80.500000  84.500000         1     5        2   \n",
       "7    100263-2-0-3.wav  100263   1.500000   5.500000         1     5        2   \n",
       "8   100263-2-0-36.wav  100263  18.000000  22.000000         1     5        2   \n",
       "9    100648-1-0-0.wav  100648   4.823402   5.471927         2    10        1   \n",
       "\n",
       "              class  \n",
       "0          dog_bark  \n",
       "1  children_playing  \n",
       "2  children_playing  \n",
       "3  children_playing  \n",
       "4  children_playing  \n",
       "5  children_playing  \n",
       "6  children_playing  \n",
       "7  children_playing  \n",
       "8  children_playing  \n",
       "9          car_horn  "
      ]
     },
     "execution_count": 16,
     "metadata": {},
     "output_type": "execute_result"
    }
   ],
   "source": [
    "# Read Data\n",
    "data = pd.read_csv('UrbanSound8K.csv')\n",
    "data.head(10)"
   ]
  },
  {
   "cell_type": "code",
   "execution_count": null,
   "metadata": {},
   "outputs": [],
   "source": [
    "data.shape"
   ]
  },
  {
   "cell_type": "code",
   "execution_count": 17,
   "metadata": {},
   "outputs": [
    {
     "data": {
      "text/plain": [
       "(7468, 4)"
      ]
     },
     "execution_count": 17,
     "metadata": {},
     "output_type": "execute_result"
    }
   ],
   "source": [
    "# Get data over 3 seconds long\n",
    "valid_data = data[['slice_file_name', 'fold' ,'classID', 'class']][ data['end']-data['start'] >= 3 ]\n",
    "valid_data.shape"
   ]
  },
  {
   "cell_type": "code",
   "execution_count": 18,
   "metadata": {},
   "outputs": [
    {
     "data": {
      "text/plain": [
       "(128, 128)"
      ]
     },
     "execution_count": 18,
     "metadata": {},
     "output_type": "execute_result"
    }
   ],
   "source": [
    "# Example of a Siren spectrogram\n",
    "y, sr = librosa.load('C:\\\\Users\\\\ASUS\\\\Desktop\\\\UrbanSound8K\\\\UrbanSound8K\\\\audio\\\\fold1\\\\7383-3-1-0.wav', duration=2.97)\n",
    "ps = librosa.feature.melspectrogram(y=y, sr=sr)\n",
    "ps.shape"
   ]
  },
  {
   "cell_type": "code",
   "execution_count": 19,
   "metadata": {},
   "outputs": [
    {
     "data": {
      "text/plain": [
       "<matplotlib.axes._subplots.AxesSubplot at 0x1c7c65a3d30>"
      ]
     },
     "execution_count": 19,
     "metadata": {},
     "output_type": "execute_result"
    },
    {
     "data": {
      "image/png": "[encoded data removed]",
      "text/plain": [
       "<Figure size 432x288 with 1 Axes>"
      ]
     },
     "metadata": {
      "needs_background": "light"
     },
     "output_type": "display_data"
    }
   ],
   "source": [
    "librosa.display.specshow(ps, y_axis='mel', x_axis='time')"
   ]
  },
  {
   "cell_type": "code",
   "execution_count": 20,
   "metadata": {},
   "outputs": [
    {
     "data": {
      "text/plain": [
       "(128, 128)"
      ]
     },
     "execution_count": 20,
     "metadata": {},
     "output_type": "execute_result"
    }
   ],
   "source": [
    "# Example of a AC spectrogram\n",
    "y, sr = librosa.load('C:\\\\Users\\\\ASUS\\\\Desktop\\\\UrbanSound8K\\\\UrbanSound8K\\\\audio\\\\fold1\\\\15564-2-0-0.wav', duration=2.97)\n",
    "ps = librosa.feature.melspectrogram(y=y, sr=sr)\n",
    "ps.shape"
   ]
  },
  {
   "cell_type": "code",
   "execution_count": 21,
   "metadata": {},
   "outputs": [
    {
     "data": {
      "text/plain": [
       "<matplotlib.axes._subplots.AxesSubplot at 0x1c7ca21ab70>"
      ]
     },
     "execution_count": 21,
     "metadata": {},
     "output_type": "execute_result"
    },
    {
     "data": {
      "image/png": "[encoded data removed]",
      "text/plain": [
       "<Figure size 432x288 with 1 Axes>"
      ]
     },
     "metadata": {
      "needs_background": "light"
     },
     "output_type": "display_data"
    }
   ],
   "source": [
    "librosa.display.specshow(ps, y_axis='mel', x_axis='time')"
   ]
  },
  {
   "cell_type": "code",
   "execution_count": 22,
   "metadata": {},
   "outputs": [
    {
     "data": {
      "text/plain": [
       "(128, 128)"
      ]
     },
     "execution_count": 22,
     "metadata": {},
     "output_type": "execute_result"
    }
   ],
   "source": [
    "# Example of a children playing spectrogram\n",
    "y, sr = librosa.load('C:\\\\Users\\\\ASUS\\\\Desktop\\\\UrbanSound8K\\\\UrbanSound8K\\\\audio\\\\fold10\\\\14468-3-5-0.wav', duration=2.97)\n",
    "ps = librosa.feature.melspectrogram(y=y, sr=sr)\n",
    "ps.shape"
   ]
  },
  {
   "cell_type": "code",
   "execution_count": 23,
   "metadata": {},
   "outputs": [
    {
     "data": {
      "text/plain": [
       "<matplotlib.axes._subplots.AxesSubplot at 0x1c7ca27af28>"
      ]
     },
     "execution_count": 23,
     "metadata": {},
     "output_type": "execute_result"
    },
    {
     "data": {
      "image/png": "[encoded data removed]",
      "text/plain": [
       "<Figure size 432x288 with 1 Axes>"
      ]
     },
     "metadata": {
      "needs_background": "light"
     },
     "output_type": "display_data"
    }
   ],
   "source": [
    "librosa.display.specshow(ps, y_axis='mel', x_axis='time')"
   ]
  },
  {
   "cell_type": "code",
   "execution_count": 24,
   "metadata": {},
   "outputs": [
    {
     "data": {
      "text/plain": [
       "(128, 128)"
      ]
     },
     "execution_count": 24,
     "metadata": {},
     "output_type": "execute_result"
    }
   ],
   "source": [
    "# Example of a drilling spectrogram\n",
    "y, sr = librosa.load('C:\\\\Users\\\\ASUS\\\\Desktop\\\\UrbanSound8K\\\\UrbanSound8K\\\\audio\\\\fold10\\\\28808-1-0-2.wav', duration=2.97)\n",
    "ps = librosa.feature.melspectrogram(y=y, sr=sr)\n",
    "ps.shape"
   ]
  },
  {
   "cell_type": "code",
   "execution_count": 25,
   "metadata": {},
   "outputs": [
    {
     "data": {
      "text/plain": [
       "<matplotlib.axes._subplots.AxesSubplot at 0x1c7cbaab320>"
      ]
     },
     "execution_count": 25,
     "metadata": {},
     "output_type": "execute_result"
    },
    {
     "data": {
      "image/png": "[encoded data removed]",
      "text/plain": [
       "<Figure size 432x288 with 1 Axes>"
      ]
     },
     "metadata": {
      "needs_background": "light"
     },
     "output_type": "display_data"
    }
   ],
   "source": [
    "librosa.display.specshow(ps, y_axis='mel', x_axis='time')"
   ]
  },
  {
   "cell_type": "code",
   "execution_count": 1,
   "metadata": {},
   "outputs": [],
   "source": [
    "# Iterating over all samples in valid. For every sample, construct the (128,128) spectrogram"
   ]
  },
  {
   "cell_type": "code",
   "execution_count": 26,
   "metadata": {},
   "outputs": [],
   "source": [
    "valid_data['path'] = 'fold' + valid_data['fold'].astype('str') + '/' + valid_data['slice_file_name'].astype('str')"
   ]
  },
  {
   "cell_type": "code",
   "execution_count": 27,
   "metadata": {},
   "outputs": [],
   "source": [
    "D = [] # Dataset\n",
    "\n",
    "for row in valid_data.itertuples():\n",
    "    y, sr = librosa.load('C:\\\\Users\\\\ASUS\\\\Desktop\\\\UrbanSound8K\\\\UrbanSound8K\\\\audio\\\\' + row.path, duration=2.97)  \n",
    "    ps = librosa.feature.melspectrogram(y=y, sr=sr)\n",
    "    if ps.shape != (128, 128): continue\n",
    "    D.append( (ps, row.classID) )"
   ]
  },
  {
   "cell_type": "code",
   "execution_count": 29,
   "metadata": {},
   "outputs": [
    {
     "name": "stdout",
     "output_type": "stream",
     "text": [
      "Number of samples:  7467\n"
     ]
    }
   ],
   "source": [
    "print(\"Number of samples: \", len(D))"
   ]
  },
  {
   "cell_type": "code",
   "execution_count": 28,
   "metadata": {},
   "outputs": [],
   "source": [
    "dataset = D\n",
    "random.shuffle(dataset)\n",
    "\n",
    "train = dataset[:7000]\n",
    "test = dataset[7000:]\n",
    "\n",
    "X_train, y_train = zip(*train)\n",
    "X_test, y_test = zip(*test)\n",
    "\n",
    "# Reshape for CNN input\n",
    "X_train = np.array([x.reshape( (128, 128, 1) ) for x in X_train])\n",
    "X_test = np.array([x.reshape( (128, 128, 1) ) for x in X_test])\n",
    "\n",
    "# One-Hot encoding for classes\n",
    "y_train = np.array(keras.utils.to_categorical(y_train, 10))\n",
    "y_test = np.array(keras.utils.to_categorical(y_test, 10))"
   ]
  },
  {
   "cell_type": "code",
   "execution_count": 30,
   "metadata": {},
   "outputs": [],
   "source": [
    "model= Sequential()\n",
    "input_shape=(128,128,1)\n",
    "\n",
    "model.add(Conv2D(24, (5, 5), strides=(1, 1), input_shape=input_shape))\n",
    "model.add(MaxPooling2D((4, 2), strides=(4, 2)))\n",
    "model.add(Activation('relu'))\n",
    "\n",
    "model.add(Conv2D(48, (5, 5), padding=\"valid\"))\n",
    "model.add(MaxPooling2D((4, 2), strides=(4, 2)))\n",
    "model.add(Activation('relu'))\n",
    "\n",
    "model.add(Conv2D(48, (5, 5), padding=\"valid\"))\n",
    "model.add(Activation('relu'))\n",
    "\n",
    "model.add(Flatten())\n",
    "model.add(Dropout(rate=0.5))\n",
    "\n",
    "model.add(Dense(64))\n",
    "model.add(Activation('relu'))\n",
    "model.add(Dropout(rate=0.5))\n",
    "\n",
    "model.add(Dense(10))\n",
    "model.add(Activation('softmax'))"
   ]
  },
  {
   "cell_type": "code",
   "execution_count": 31,
   "metadata": {},
   "outputs": [
    {
     "name": "stdout",
     "output_type": "stream",
     "text": [
      "Train on 7000 samples, validate on 467 samples\n",
      "Epoch 1/80\n",
      "7000/7000 [==============================] - 87s 12ms/step - loss: 2.6790 - acc: 0.2103 - val_loss: 2.1063 - val_acc: 0.2976\n",
      "Epoch 2/80\n",
      "7000/7000 [==============================] - 88s 13ms/step - loss: 2.0711 - acc: 0.2657 - val_loss: 1.7770 - val_acc: 0.3726\n",
      "Epoch 3/80\n",
      "7000/7000 [==============================] - 98s 14ms/step - loss: 1.8916 - acc: 0.3211 - val_loss: 1.6241 - val_acc: 0.4775\n",
      "Epoch 4/80\n",
      "7000/7000 [==============================] - 99s 14ms/step - loss: 1.6708 - acc: 0.4059 - val_loss: 1.4094 - val_acc: 0.5439\n",
      "Epoch 5/80\n",
      "7000/7000 [==============================] - 113s 16ms/step - loss: 1.5261 - acc: 0.4646 - val_loss: 1.3187 - val_acc: 0.5525\n",
      "Epoch 6/80\n",
      "7000/7000 [==============================] - 115s 16ms/step - loss: 1.4068 - acc: 0.5013 - val_loss: 1.2349 - val_acc: 0.5803\n",
      "Epoch 7/80\n",
      "7000/7000 [==============================] - 93s 13ms/step - loss: 1.3497 - acc: 0.5267 - val_loss: 1.2581 - val_acc: 0.5824\n",
      "Epoch 8/80\n",
      "7000/7000 [==============================] - 86s 12ms/step - loss: 1.3286 - acc: 0.5501 - val_loss: 1.2655 - val_acc: 0.6081\n",
      "Epoch 9/80\n",
      "7000/7000 [==============================] - 87s 12ms/step - loss: 1.2378 - acc: 0.5656 - val_loss: 1.0198 - val_acc: 0.6467\n",
      "Epoch 10/80\n",
      "7000/7000 [==============================] - 94s 13ms/step - loss: 1.1126 - acc: 0.6196 - val_loss: 1.0229 - val_acc: 0.6274\n",
      "Epoch 11/80\n",
      "7000/7000 [==============================] - 114s 16ms/step - loss: 1.0621 - acc: 0.6429 - val_loss: 0.9912 - val_acc: 0.6531\n",
      "Epoch 12/80\n",
      "7000/7000 [==============================] - 104s 15ms/step - loss: 1.0062 - acc: 0.6551 - val_loss: 0.9351 - val_acc: 0.6852\n",
      "Epoch 13/80\n",
      "7000/7000 [==============================] - 105s 15ms/step - loss: 0.9854 - acc: 0.6687 - val_loss: 0.9161 - val_acc: 0.6895\n",
      "Epoch 14/80\n",
      "7000/7000 [==============================] - 96s 14ms/step - loss: 0.9170 - acc: 0.6913 - val_loss: 0.8775 - val_acc: 0.6788\n",
      "Epoch 15/80\n",
      "7000/7000 [==============================] - 95s 14ms/step - loss: 0.8929 - acc: 0.7029 - val_loss: 0.8418 - val_acc: 0.6916\n",
      "Epoch 16/80\n",
      "7000/7000 [==============================] - 90s 13ms/step - loss: 0.8515 - acc: 0.7204 - val_loss: 0.8231 - val_acc: 0.7216\n",
      "Epoch 17/80\n",
      "7000/7000 [==============================] - 96s 14ms/step - loss: 0.7903 - acc: 0.7377 - val_loss: 0.8021 - val_acc: 0.7559\n",
      "Epoch 18/80\n",
      "7000/7000 [==============================] - 94s 13ms/step - loss: 0.7911 - acc: 0.7397 - val_loss: 0.7725 - val_acc: 0.7516\n",
      "Epoch 19/80\n",
      "7000/7000 [==============================] - 86s 12ms/step - loss: 0.7383 - acc: 0.7597 - val_loss: 0.7868 - val_acc: 0.7409\n",
      "Epoch 20/80\n",
      "7000/7000 [==============================] - 86s 12ms/step - loss: 0.7120 - acc: 0.7710 - val_loss: 0.7682 - val_acc: 0.7645\n",
      "Epoch 21/80\n",
      "7000/7000 [==============================] - 86s 12ms/step - loss: 0.6948 - acc: 0.7674 - val_loss: 0.7120 - val_acc: 0.7580\n",
      "Epoch 22/80\n",
      "7000/7000 [==============================] - 86s 12ms/step - loss: 0.6364 - acc: 0.7906 - val_loss: 0.6968 - val_acc: 0.7409\n",
      "Epoch 23/80\n",
      "7000/7000 [==============================] - 87s 12ms/step - loss: 0.7077 - acc: 0.7730 - val_loss: 0.6914 - val_acc: 0.7709\n",
      "Epoch 24/80\n",
      "7000/7000 [==============================] - 87s 12ms/step - loss: 0.6472 - acc: 0.7883 - val_loss: 0.6454 - val_acc: 0.7752\n",
      "Epoch 25/80\n",
      "7000/7000 [==============================] - 88s 13ms/step - loss: 0.6402 - acc: 0.7961 - val_loss: 0.7013 - val_acc: 0.7773\n",
      "Epoch 26/80\n",
      "7000/7000 [==============================] - 87s 12ms/step - loss: 0.5871 - acc: 0.8067 - val_loss: 0.6992 - val_acc: 0.7837\n",
      "Epoch 27/80\n",
      "7000/7000 [==============================] - 87s 12ms/step - loss: 0.5811 - acc: 0.8064 - val_loss: 0.7068 - val_acc: 0.7987\n",
      "Epoch 28/80\n",
      "7000/7000 [==============================] - 86s 12ms/step - loss: 0.5710 - acc: 0.8157 - val_loss: 0.6808 - val_acc: 0.7623\n",
      "Epoch 29/80\n",
      "7000/7000 [==============================] - 87s 12ms/step - loss: 0.5565 - acc: 0.8184 - val_loss: 0.7170 - val_acc: 0.7730\n",
      "Epoch 30/80\n",
      "7000/7000 [==============================] - 86s 12ms/step - loss: 0.5352 - acc: 0.8257 - val_loss: 0.6512 - val_acc: 0.8158\n",
      "Epoch 31/80\n",
      "7000/7000 [==============================] - 87s 12ms/step - loss: 0.5358 - acc: 0.8290 - val_loss: 0.6556 - val_acc: 0.7880\n",
      "Epoch 32/80\n",
      "7000/7000 [==============================] - 87s 12ms/step - loss: 0.5860 - acc: 0.8143 - val_loss: 0.6505 - val_acc: 0.7623\n",
      "Epoch 33/80\n",
      "7000/7000 [==============================] - 87s 12ms/step - loss: 0.5544 - acc: 0.8201 - val_loss: 0.8036 - val_acc: 0.7944\n",
      "Epoch 34/80\n",
      "7000/7000 [==============================] - 87s 12ms/step - loss: 0.4865 - acc: 0.8394 - val_loss: 0.6619 - val_acc: 0.7966\n",
      "Epoch 35/80\n",
      "7000/7000 [==============================] - 87s 12ms/step - loss: 0.4752 - acc: 0.8420 - val_loss: 0.6020 - val_acc: 0.8137\n",
      "Epoch 36/80\n",
      "7000/7000 [==============================] - 87s 12ms/step - loss: 0.4666 - acc: 0.8483 - val_loss: 0.5820 - val_acc: 0.8116\n",
      "Epoch 37/80\n",
      "7000/7000 [==============================] - 87s 12ms/step - loss: 0.4569 - acc: 0.8501 - val_loss: 0.6410 - val_acc: 0.8223\n",
      "Epoch 38/80\n",
      "7000/7000 [==============================] - 87s 12ms/step - loss: 0.4404 - acc: 0.8614 - val_loss: 0.5358 - val_acc: 0.8116\n",
      "Epoch 39/80\n",
      "7000/7000 [==============================] - 87s 12ms/step - loss: 0.4872 - acc: 0.8490 - val_loss: 0.6408 - val_acc: 0.7901\n",
      "Epoch 40/80\n",
      "7000/7000 [==============================] - 88s 13ms/step - loss: 0.5209 - acc: 0.8347 - val_loss: 0.6148 - val_acc: 0.8415\n",
      "Epoch 41/80\n",
      "7000/7000 [==============================] - 87s 12ms/step - loss: 0.4313 - acc: 0.8567 - val_loss: 0.8578 - val_acc: 0.7859\n",
      "Epoch 42/80\n",
      "7000/7000 [==============================] - 88s 13ms/step - loss: 0.5372 - acc: 0.8299 - val_loss: 0.6392 - val_acc: 0.8244\n",
      "Epoch 43/80\n",
      "7000/7000 [==============================] - 87s 12ms/step - loss: 0.4663 - acc: 0.8534 - val_loss: 0.6223 - val_acc: 0.8137\n",
      "Epoch 44/80\n",
      "7000/7000 [==============================] - 87s 12ms/step - loss: 0.4025 - acc: 0.8674 - val_loss: 0.6065 - val_acc: 0.8351\n",
      "Epoch 45/80\n",
      "7000/7000 [==============================] - 88s 13ms/step - loss: 0.4033 - acc: 0.8703 - val_loss: 0.5387 - val_acc: 0.8544\n",
      "Epoch 46/80\n",
      "7000/7000 [==============================] - 87s 12ms/step - loss: 0.3987 - acc: 0.8726 - val_loss: 0.6127 - val_acc: 0.8244\n",
      "Epoch 47/80\n",
      "7000/7000 [==============================] - 88s 13ms/step - loss: 0.3720 - acc: 0.8816 - val_loss: 0.6302 - val_acc: 0.8201\n",
      "Epoch 48/80\n",
      "7000/7000 [==============================] - 87s 12ms/step - loss: 0.3622 - acc: 0.8784 - val_loss: 0.6805 - val_acc: 0.8308\n",
      "Epoch 49/80\n",
      "7000/7000 [==============================] - 88s 13ms/step - loss: 0.3562 - acc: 0.8821 - val_loss: 0.6038 - val_acc: 0.8266\n",
      "Epoch 50/80\n",
      "7000/7000 [==============================] - 87s 12ms/step - loss: 0.3541 - acc: 0.8810 - val_loss: 0.5073 - val_acc: 0.8501\n",
      "Epoch 51/80\n",
      "7000/7000 [==============================] - 88s 13ms/step - loss: 0.3279 - acc: 0.8934 - val_loss: 0.5668 - val_acc: 0.8587\n",
      "Epoch 52/80\n",
      "7000/7000 [==============================] - 87s 12ms/step - loss: 0.3278 - acc: 0.8913 - val_loss: 0.5248 - val_acc: 0.8458\n",
      "Epoch 53/80\n",
      "7000/7000 [==============================] - 87s 12ms/step - loss: 0.2823 - acc: 0.9056 - val_loss: 0.5944 - val_acc: 0.8651\n",
      "Epoch 54/80\n",
      "7000/7000 [==============================] - 87s 12ms/step - loss: 0.3542 - acc: 0.8931 - val_loss: 0.5141 - val_acc: 0.8330\n",
      "Epoch 55/80\n",
      "7000/7000 [==============================] - 88s 13ms/step - loss: 0.3587 - acc: 0.8920 - val_loss: 0.5489 - val_acc: 0.8522\n",
      "Epoch 56/80\n",
      "7000/7000 [==============================] - 88s 13ms/step - loss: 0.5769 - acc: 0.8394 - val_loss: 0.6111 - val_acc: 0.8244\n",
      "Epoch 57/80\n",
      "7000/7000 [==============================] - 87s 12ms/step - loss: 0.3850 - acc: 0.8773 - val_loss: 0.7769 - val_acc: 0.8094\n",
      "Epoch 58/80\n",
      "7000/7000 [==============================] - 87s 12ms/step - loss: 0.4519 - acc: 0.8709 - val_loss: 0.5853 - val_acc: 0.8244\n",
      "Epoch 59/80\n",
      "7000/7000 [==============================] - 87s 12ms/step - loss: 0.3390 - acc: 0.8910 - val_loss: 0.5740 - val_acc: 0.8437\n",
      "Epoch 60/80\n",
      "7000/7000 [==============================] - 87s 12ms/step - loss: 0.3328 - acc: 0.8937 - val_loss: 0.5681 - val_acc: 0.8458\n",
      "Epoch 61/80\n",
      "7000/7000 [==============================] - 88s 13ms/step - loss: 0.3121 - acc: 0.9004 - val_loss: 0.5496 - val_acc: 0.8544\n",
      "Epoch 62/80\n",
      "7000/7000 [==============================] - 88s 13ms/step - loss: 0.2836 - acc: 0.9023 - val_loss: 0.5770 - val_acc: 0.8544\n",
      "Epoch 63/80\n",
      "7000/7000 [==============================] - 87s 12ms/step - loss: 0.2756 - acc: 0.9056 - val_loss: 0.5496 - val_acc: 0.8587\n",
      "Epoch 64/80\n",
      "7000/7000 [==============================] - 91s 13ms/step - loss: 0.2592 - acc: 0.9159 - val_loss: 0.5251 - val_acc: 0.8587\n",
      "Epoch 65/80\n",
      "7000/7000 [==============================] - 95s 14ms/step - loss: 0.2480 - acc: 0.9224 - val_loss: 0.5104 - val_acc: 0.8737\n",
      "Epoch 66/80\n",
      "7000/7000 [==============================] - 86s 12ms/step - loss: 0.3018 - acc: 0.9070 - val_loss: 0.6522 - val_acc: 0.8394\n",
      "Epoch 67/80\n",
      "7000/7000 [==============================] - 91s 13ms/step - loss: 0.3020 - acc: 0.9073 - val_loss: 0.5896 - val_acc: 0.8758\n",
      "Epoch 68/80\n",
      "7000/7000 [==============================] - 85s 12ms/step - loss: 0.2560 - acc: 0.9137 - val_loss: 0.8415 - val_acc: 0.8394\n",
      "Epoch 69/80\n",
      "7000/7000 [==============================] - 84s 12ms/step - loss: 0.3015 - acc: 0.9061 - val_loss: 0.5131 - val_acc: 0.8715\n",
      "Epoch 70/80\n",
      "7000/7000 [==============================] - 84s 12ms/step - loss: 0.2694 - acc: 0.9099 - val_loss: 0.4991 - val_acc: 0.8844\n",
      "Epoch 71/80\n",
      "7000/7000 [==============================] - 83s 12ms/step - loss: 0.2766 - acc: 0.9126 - val_loss: 0.6500 - val_acc: 0.8522\n",
      "Epoch 72/80\n",
      "7000/7000 [==============================] - 84s 12ms/step - loss: 0.2507 - acc: 0.9177 - val_loss: 0.5364 - val_acc: 0.8587\n",
      "Epoch 73/80\n",
      "7000/7000 [==============================] - 89s 13ms/step - loss: 0.2412 - acc: 0.9223 - val_loss: 0.5028 - val_acc: 0.8822\n",
      "Epoch 74/80\n",
      "7000/7000 [==============================] - 84s 12ms/step - loss: 0.2270 - acc: 0.9269 - val_loss: 0.5354 - val_acc: 0.8801\n",
      "Epoch 75/80\n",
      "7000/7000 [==============================] - 84s 12ms/step - loss: 0.3190 - acc: 0.9040 - val_loss: 0.5894 - val_acc: 0.8437\n",
      "Epoch 76/80\n",
      "7000/7000 [==============================] - 85s 12ms/step - loss: 0.2663 - acc: 0.9194 - val_loss: 0.5329 - val_acc: 0.8737\n",
      "Epoch 77/80\n",
      "7000/7000 [==============================] - 85s 12ms/step - loss: 0.2070 - acc: 0.9293 - val_loss: 0.5067 - val_acc: 0.8737\n",
      "Epoch 78/80\n",
      "7000/7000 [==============================] - 85s 12ms/step - loss: 0.2283 - acc: 0.9289 - val_loss: 0.5221 - val_acc: 0.8715\n",
      "Epoch 79/80\n",
      "7000/7000 [==============================] - 85s 12ms/step - loss: 0.2237 - acc: 0.9277 - val_loss: 0.5455 - val_acc: 0.8801\n",
      "Epoch 80/80\n",
      "7000/7000 [==============================] - 85s 12ms/step - loss: 0.2368 - acc: 0.9234 - val_loss: 0.5693 - val_acc: 0.8822\n",
      "467/467 [==============================] - 2s 4ms/step\n",
      "Test loss: 0.5693492588828412\n",
      "Test accuracy: 0.882226980089886\n"
     ]
    }
   ],
   "source": [
    "model.compile(\n",
    "\toptimizer=\"Adam\",\n",
    "\tloss=\"categorical_crossentropy\",\n",
    "\tmetrics=['accuracy'])\n",
    "\n",
    "hist=model.fit(\n",
    "\tx=X_train, \n",
    "\ty=y_train,\n",
    "    epochs=80,\n",
    "    batch_size=128,\n",
    "    validation_data= (X_test, y_test))\n",
    "\n",
    "score = model.evaluate(\n",
    "\tx=X_test,\n",
    "\ty=y_test)\n",
    "\n",
    "print('Test loss:', score[0])\n",
    "print('Test accuracy:', score[1])"
   ]
  },
  {
   "cell_type": "code",
   "execution_count": 32,
   "metadata": {},
   "outputs": [
    {
     "data": {
      "text/plain": [
       "{'val_loss': [2.106258924819162,\n",
       "  1.7769707780833928,\n",
       "  1.6241070106146933,\n",
       "  1.409447812676685,\n",
       "  1.3187140223811473,\n",
       "  1.234885361771512,\n",
       "  1.2580572114000994,\n",
       "  1.2654803932606535,\n",
       "  1.0197572285664414,\n",
       "  1.0228990285759054,\n",
       "  0.9912000775847751,\n",
       "  0.9351439035679084,\n",
       "  0.916064229333171,\n",
       "  0.877502427238979,\n",
       "  0.8418010740004463,\n",
       "  0.8230545760732647,\n",
       "  0.8020852072846456,\n",
       "  0.7724770958469562,\n",
       "  0.7868259448310803,\n",
       "  0.7682274370683593,\n",
       "  0.7119578913141369,\n",
       "  0.6967700686648776,\n",
       "  0.6914488517497795,\n",
       "  0.645383153405894,\n",
       "  0.7012824033261367,\n",
       "  0.6992100680155213,\n",
       "  0.7068004287795285,\n",
       "  0.680752756381188,\n",
       "  0.7170021997274117,\n",
       "  0.6511758539099765,\n",
       "  0.655602878370428,\n",
       "  0.6505212633206451,\n",
       "  0.8035992659644345,\n",
       "  0.6618631155383663,\n",
       "  0.602008468078597,\n",
       "  0.5819678672886507,\n",
       "  0.6409638495976205,\n",
       "  0.5358204128144896,\n",
       "  0.6408217546771374,\n",
       "  0.6148463123870866,\n",
       "  0.8577821224098288,\n",
       "  0.6392002957025483,\n",
       "  0.6223262290627849,\n",
       "  0.6065206551960245,\n",
       "  0.5387170313512487,\n",
       "  0.6126833438107493,\n",
       "  0.6301616716180675,\n",
       "  0.6804996578290069,\n",
       "  0.6037534780369581,\n",
       "  0.507339706002262,\n",
       "  0.5667524161634915,\n",
       "  0.5247906771921244,\n",
       "  0.5943575024094265,\n",
       "  0.5141184164063578,\n",
       "  0.5489419475357333,\n",
       "  0.61109640983749,\n",
       "  0.7768774623533898,\n",
       "  0.5852540485098224,\n",
       "  0.5739624353496625,\n",
       "  0.5680585074731063,\n",
       "  0.5496239325219099,\n",
       "  0.5769630472716223,\n",
       "  0.5495862127371467,\n",
       "  0.5251453506104186,\n",
       "  0.5104236694679015,\n",
       "  0.6521674344830646,\n",
       "  0.5896178288684412,\n",
       "  0.8415464943940941,\n",
       "  0.5130567573633132,\n",
       "  0.499053185705965,\n",
       "  0.6500137753353895,\n",
       "  0.5363782839550452,\n",
       "  0.5028031227164912,\n",
       "  0.5354321032315812,\n",
       "  0.5894098326531927,\n",
       "  0.5328723809959036,\n",
       "  0.5066671876886928,\n",
       "  0.5220833562426189,\n",
       "  0.5455087506286082,\n",
       "  0.5693492663493759],\n",
       " 'val_acc': [0.29764453878494607,\n",
       "  0.3725910069983317,\n",
       "  0.47751606206311914,\n",
       "  0.5438972152530254,\n",
       "  0.5524625271494945,\n",
       "  0.5802997820382455,\n",
       "  0.5824411096613719,\n",
       "  0.6081370489245054,\n",
       "  0.6466809391209605,\n",
       "  0.6274089947247148,\n",
       "  0.6531049297759569,\n",
       "  0.6852248363372345,\n",
       "  0.6895074915834872,\n",
       "  0.6788008562757831,\n",
       "  0.6916488227803396,\n",
       "  0.7216274095041083,\n",
       "  0.7558886486662021,\n",
       "  0.7516059983976393,\n",
       "  0.7408993581122454,\n",
       "  0.7644539641363973,\n",
       "  0.7580299798630545,\n",
       "  0.7408993524963902,\n",
       "  0.7708779484097401,\n",
       "  0.775160602252029,\n",
       "  0.7773019284711915,\n",
       "  0.7837259049589169,\n",
       "  0.7987152032984911,\n",
       "  0.7623126337053434,\n",
       "  0.7730192704170112,\n",
       "  0.8158458214755743,\n",
       "  0.7880085665868233,\n",
       "  0.7623126337053434,\n",
       "  0.7944325480522384,\n",
       "  0.7965738714634734,\n",
       "  0.8137044952564118,\n",
       "  0.8115631718451768,\n",
       "  0.8222698057489171,\n",
       "  0.8115631648253577,\n",
       "  0.7901498942099495,\n",
       "  0.8415417515491265,\n",
       "  0.7858672361557693,\n",
       "  0.8244111383497332,\n",
       "  0.8137044966603755,\n",
       "  0.8351177714876751,\n",
       "  0.8543897264774657,\n",
       "  0.8244111305641157,\n",
       "  0.8201284795297545,\n",
       "  0.8308351162414224,\n",
       "  0.8265524595912059,\n",
       "  0.8501070620416319,\n",
       "  0.8586723725341372,\n",
       "  0.8458244067953792,\n",
       "  0.86509635680748,\n",
       "  0.832976442460585,\n",
       "  0.8522483988543395,\n",
       "  0.8244111333720434,\n",
       "  0.8094218414141228,\n",
       "  0.8244111347760071,\n",
       "  0.8436830819801804,\n",
       "  0.8458244159849604,\n",
       "  0.8543897172878845,\n",
       "  0.8543897172878845,\n",
       "  0.8586723817237184,\n",
       "  0.8586723817237184,\n",
       "  0.8736616750856028,\n",
       "  0.8394004317116176,\n",
       "  0.8758030013047653,\n",
       "  0.8394004239260001,\n",
       "  0.8715203474624764,\n",
       "  0.8843683132012344,\n",
       "  0.8522483974503756,\n",
       "  0.8586723789157908,\n",
       "  0.8822269855781082,\n",
       "  0.8800856487654006,\n",
       "  0.8436830805762167,\n",
       "  0.8736616722776752,\n",
       "  0.8736616750856028,\n",
       "  0.8715203446545489,\n",
       "  0.8800856537430904,\n",
       "  0.8822269855781082],\n",
       " 'loss': [2.678975761141096,\n",
       "  2.071137709753854,\n",
       "  1.8915968330928257,\n",
       "  1.6707803757531303,\n",
       "  1.5261068206514632,\n",
       "  1.4068221962792533,\n",
       "  1.3497048068727766,\n",
       "  1.328552553994315,\n",
       "  1.2378293850081308,\n",
       "  1.1126321102551051,\n",
       "  1.0621074209894452,\n",
       "  1.0062146447045464,\n",
       "  0.985436324937003,\n",
       "  0.9170332432474408,\n",
       "  0.8928818623679025,\n",
       "  0.8514705548286438,\n",
       "  0.7903195392744882,\n",
       "  0.7910730385099138,\n",
       "  0.7382680315290179,\n",
       "  0.7119834549767631,\n",
       "  0.6948136502674648,\n",
       "  0.6363956116948809,\n",
       "  0.7076869708469936,\n",
       "  0.6471522115979876,\n",
       "  0.6401765890802656,\n",
       "  0.587140256677355,\n",
       "  0.5810603153705597,\n",
       "  0.5710246894700186,\n",
       "  0.5564898334230696,\n",
       "  0.5351990121432713,\n",
       "  0.5357955934660775,\n",
       "  0.5860090220315116,\n",
       "  0.5543727272578648,\n",
       "  0.4864554382732936,\n",
       "  0.4751849581514086,\n",
       "  0.4665514737537929,\n",
       "  0.4568819023541042,\n",
       "  0.44043807452065603,\n",
       "  0.4872413958821978,\n",
       "  0.520947558266776,\n",
       "  0.43129385852813723,\n",
       "  0.5372036929130555,\n",
       "  0.4662660180500576,\n",
       "  0.40251052488599504,\n",
       "  0.4032961833817618,\n",
       "  0.39867382846559796,\n",
       "  0.37202867334229606,\n",
       "  0.36216062256268094,\n",
       "  0.35620141901288715,\n",
       "  0.3541196780545371,\n",
       "  0.32793026661872865,\n",
       "  0.32779104038647244,\n",
       "  0.28227915695735384,\n",
       "  0.35419113087654114,\n",
       "  0.3586669282913208,\n",
       "  0.5768818581444877,\n",
       "  0.3850115370750427,\n",
       "  0.4518634743009295,\n",
       "  0.3390339633056096,\n",
       "  0.33281166662488665,\n",
       "  0.3120821444988251,\n",
       "  0.283619964327131,\n",
       "  0.2756306481361389,\n",
       "  0.25921122363635474,\n",
       "  0.24799007274423326,\n",
       "  0.30184256284577504,\n",
       "  0.30201743030548095,\n",
       "  0.2560243973391397,\n",
       "  0.3014612616130284,\n",
       "  0.2694399366038186,\n",
       "  0.2765954678399222,\n",
       "  0.2506941646507808,\n",
       "  0.24120021607194628,\n",
       "  0.22702766561508178,\n",
       "  0.31896894812583926,\n",
       "  0.26630224336896624,\n",
       "  0.206964371408735,\n",
       "  0.22832242020538876,\n",
       "  0.22366094786780222,\n",
       "  0.2367640714475087],\n",
       " 'acc': [0.2102857142686844,\n",
       "  0.2657142858164651,\n",
       "  0.32114285710879736,\n",
       "  0.40585714285714286,\n",
       "  0.46457142870766777,\n",
       "  0.5012857144219535,\n",
       "  0.5267142860548837,\n",
       "  0.5501428570747375,\n",
       "  0.5655714287757874,\n",
       "  0.6195714289120265,\n",
       "  0.6428571425165449,\n",
       "  0.6551428568703788,\n",
       "  0.6687142854418073,\n",
       "  0.6912857146263123,\n",
       "  0.7028571430615016,\n",
       "  0.7204285717691694,\n",
       "  0.7377142859186445,\n",
       "  0.7397142858505249,\n",
       "  0.7597142855780465,\n",
       "  0.771000000340598,\n",
       "  0.7674285713604518,\n",
       "  0.7905714285714286,\n",
       "  0.7730000001362392,\n",
       "  0.7882857141494751,\n",
       "  0.7961428572109768,\n",
       "  0.8067142858505248,\n",
       "  0.8064285717010498,\n",
       "  0.8157142855780465,\n",
       "  0.8184285716329303,\n",
       "  0.8257142859867641,\n",
       "  0.8289999999318804,\n",
       "  0.8142857140132359,\n",
       "  0.8201428571428572,\n",
       "  0.8394285712242127,\n",
       "  0.841999999659402,\n",
       "  0.8482857145581927,\n",
       "  0.8501428572790963,\n",
       "  0.8614285717691694,\n",
       "  0.8490000000681196,\n",
       "  0.8347142860548837,\n",
       "  0.8567142857142858,\n",
       "  0.8298571425165449,\n",
       "  0.8534285716329302,\n",
       "  0.8674285714285714,\n",
       "  0.8702857139451163,\n",
       "  0.8725714282308306,\n",
       "  0.8815714282308306,\n",
       "  0.8784285714285714,\n",
       "  0.8821428568703787,\n",
       "  0.8810000001362391,\n",
       "  0.8934285717691693,\n",
       "  0.8912857142857142,\n",
       "  0.9055714289120266,\n",
       "  0.8931428571428571,\n",
       "  0.8919999998637608,\n",
       "  0.839428571156093,\n",
       "  0.8772857145581927,\n",
       "  0.8708571425165449,\n",
       "  0.8910000002043588,\n",
       "  0.8937142857142857,\n",
       "  0.9004285711560931,\n",
       "  0.9022857142857142,\n",
       "  0.905571428503309,\n",
       "  0.9158571430615017,\n",
       "  0.9224285713604519,\n",
       "  0.9070000002043588,\n",
       "  0.9072857145581926,\n",
       "  0.9137142854418073,\n",
       "  0.9061428568703788,\n",
       "  0.9098571428571428,\n",
       "  0.9125714284351893,\n",
       "  0.9177142859186445,\n",
       "  0.9222857140813555,\n",
       "  0.9268571427890233,\n",
       "  0.9039999997275217,\n",
       "  0.9194285716329302,\n",
       "  0.9292857141494751,\n",
       "  0.9288571431296212,\n",
       "  0.9277142854418073,\n",
       "  0.9234285716329302]}"
      ]
     },
     "execution_count": 32,
     "metadata": {},
     "output_type": "execute_result"
    }
   ],
   "source": [
    "hist.history"
   ]
  },
  {
   "cell_type": "code",
   "execution_count": 33,
   "metadata": {},
   "outputs": [
    {
     "data": {
      "image/png": "[encoded data removed]",
      "text/plain": [
       "<Figure size 504x360 with 1 Axes>"
      ]
     },
     "metadata": {
      "needs_background": "light"
     },
     "output_type": "display_data"
    },
    {
     "data": {
      "image/png": "[encoded data removed]",
      "text/plain": [
       "<Figure size 560x400 with 1 Axes>"
      ]
     },
     "metadata": {},
     "output_type": "display_data"
    }
   ],
   "source": [
    "# Plot the results\n",
    "train_loss=hist.history['loss']\n",
    "val_loss=hist.history['val_loss']\n",
    "train_acc=hist.history['acc']\n",
    "val_acc=hist.history['val_acc']\n",
    "\n",
    "plt.figure(1,figsize=(7,5))\n",
    "plt.plot(train_loss)\n",
    "plt.plot(val_loss)\n",
    "plt.xlabel('number_of_epochs')\n",
    "plt.ylabel('loss')\n",
    "plt.title('train_loss vs val_loss')\n",
    "plt.grid(True)\n",
    "plt.legend(['train','val'])\n",
    "plt.style.use(['classic'])\n",
    "\n",
    "plt.figure(2,figsize=(7,5))\n",
    "plt.plot(train_acc)\n",
    "plt.plot(val_acc)\n",
    "plt.xlabel('number_of_epochs')\n",
    "plt.ylabel('accuracy')\n",
    "plt.title('train_acc vs val_acc')\n",
    "plt.grid(True)\n",
    "plt.legend(['train','val'],loc=4)\n",
    "plt.style.use(['classic'])"
   ]
  },
  {
   "cell_type": "code",
   "execution_count": null,
   "metadata": {},
   "outputs": [],
   "source": []
  }
 ],
 "metadata": {
  "kernelspec": {
   "display_name": "Python 3",
   "language": "python",
   "name": "python3"
  },
  "language_info": {
   "codemirror_mode": {
    "name": "ipython",
    "version": 3
   },
   "file_extension": ".py",
   "mimetype": "text/x-python",
   "name": "python",
   "nbconvert_exporter": "python",
   "pygments_lexer": "ipython3",
   "version": "3.7.3"
  }
 },
 "nbformat": 4,
 "nbformat_minor": 2
}
